{
  "nbformat": 4,
  "nbformat_minor": 0,
  "metadata": {
    "colab": {
      "name": "16396(B2)",
      "provenance": [],
      "authorship_tag": "ABX9TyMaZsozwpITe6OuAEWmScQB"
    },
    "kernelspec": {
      "name": "python3",
      "display_name": "Python 3"
    },
    "language_info": {
      "name": "python"
    }
  },
  "cells": [
    {
      "cell_type": "markdown",
      "metadata": {
        "id": "VEZNOhNxPE2G"
      },
      "source": [
        "# 선 그리기"
      ]
    },
    {
      "cell_type": "markdown",
      "metadata": {
        "id": "bV0rmn0bPIey"
      },
      "source": [
        "# 문제\n",
        "\n",
        "준용이의 조카 준섭이는 크레파스로 한 직선에 평행한 여러 개의 선분을 그리고 있었다.\n",
        "\n",
        "준섭이의 모습을 보고 있던 준용이는 준섭이가 그린 모든 선들을 직선 좌표에 투사(projection)했을 때 투사된 선들의 길이 합이 궁금하였다.\n",
        "\n",
        "준용이에게 잘 보여야하는 여러분은 준용이의 궁금증을 해결하기 위해 프로그램을 구현해주자.\n"
      ]
    },
    {
      "cell_type": "markdown",
      "metadata": {
        "id": "oNZVT3DHPWhV"
      },
      "source": [
        "* 입력\n",
        "<br> 첫 번째 줄에는 준섭이가 그린 선의 개수 N이 입력된다.\n",
        "<br> 두 번째 줄부터 N+1 번째 줄까지는 준섭이가 그린 선의 시작 좌표 Xi와 끝 좌표 Yi 가 순서대로 주어진다. Xi 와 Yi 는 정수이며, 띄어쓰기로 구분된다.\n",
        "<br> N의 범위는 1부터 10,000까지이다. 선의 시작 좌표와 끝 좌표는 1부터 10,000까지의 자연수이다."
      ]
    },
    {
      "cell_type": "markdown",
      "metadata": {
        "id": "snJCEYKpPXOA"
      },
      "source": [
        "* 출력\n",
        "<br> 직선 좌표에 투사된 선의 총 길이 합을 정수로 출력한다. "
      ]
    },
    {
      "cell_type": "code",
      "metadata": {
        "colab": {
          "base_uri": "https://localhost:8080/"
        },
        "id": "IjBNR9RuO3cW",
        "outputId": "a8c51e70-b445-4a4a-c9f1-91eddd03c667"
      },
      "source": [
        "'''\n",
        "N=int(input())  #그린 선의 개수\n",
        "length=[]\n",
        "count=0\n",
        "\n",
        "for i in range(N):\n",
        "    x,y=map(int,input().split())   #시작좌표, 끝좌표 입력\n",
        "    for j in range(y-x+1):\n",
        "        length.append(y)\n",
        "        y=y-1\n",
        "num=list(set(length))\n",
        "\n",
        "for i in range(len(num)-1):\n",
        "    if num[i+1]-num[i]==1:\n",
        "        count+=1 \n",
        "        continue\n",
        "print(count)\n",
        "'''\n",
        "#### 위의 경우에 1 3, 4 5 했을 때 예외 발생\n",
        "\n",
        "N=int(input())  #그린 선의 개수\n",
        "num=[0 for _ in range(10000)]\n",
        "for i in range(N):\n",
        "    x,y=map(int,input().split())   #시작좌표, 끝좌표 입력\n",
        "    for j in range(x,y):\n",
        "        num[j]=1\n",
        "print(sum(num))"
      ],
      "execution_count": 1,
      "outputs": [
        {
          "output_type": "stream",
          "name": "stdout",
          "text": [
            "4\n",
            "1 3\n",
            "2 5\n",
            "4 9\n",
            "11 13\n",
            "10\n"
          ]
        }
      ]
    }
  ]
}