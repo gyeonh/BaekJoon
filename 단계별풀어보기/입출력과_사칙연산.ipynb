{
  "nbformat": 4,
  "nbformat_minor": 0,
  "metadata": {
    "colab": {
      "name": "입출력과 사칙연산",
      "provenance": []
    },
    "kernelspec": {
      "name": "python3",
      "display_name": "Python 3"
    },
    "language_info": {
      "name": "python"
    }
  },
  "cells": [
    {
      "cell_type": "markdown",
      "source": [
        "# 2557\n",
        "\n",
        "문제 : Hello World!를 출력하시오.\n",
        "\n",
        "입력 : 없음\n",
        "\n",
        "출력 : Hello World!를 출력하시오."
      ],
      "metadata": {
        "id": "HLE80HRczHPs"
      }
    },
    {
      "cell_type": "code",
      "execution_count": null,
      "metadata": {
        "colab": {
          "base_uri": "https://localhost:8080/"
        },
        "id": "XB3Q2kwyzC8e",
        "outputId": "006b10b6-b037-4765-a51c-f102354424d4"
      },
      "outputs": [
        {
          "output_type": "stream",
          "name": "stdout",
          "text": [
            "Hello World!\n"
          ]
        }
      ],
      "source": [
        "print(\"Hello World!\")"
      ]
    },
    {
      "cell_type": "markdown",
      "source": [
        "# 10718\n",
        "문제 : ACM-ICPC 인터넷 예선, Regional, 그리고 World Finals까지 이미 2회씩 진출해버린 kriii는 미련을 버리지 못하고 왠지 모르게 올해에도 파주 World Finals 준비 캠프에 참여했다.\n",
        "\n",
        "대회를 뜰 줄 모르는 지박령 kriii를 위해서 격려의 문구를 출력해주자.\n",
        "\n",
        "\n",
        "입력 : 없음\n",
        "\n",
        "\n",
        "출력 : 두 줄에 걸쳐 \"강한친구 대한육군\"을 한 줄에 한 번씩 출력한다.\n"
      ],
      "metadata": {
        "id": "Sj7h17eo1Wiw"
      }
    },
    {
      "cell_type": "code",
      "source": [
        "print(\"강한친구 대한육군\\n강한친구 대한육군\")"
      ],
      "metadata": {
        "colab": {
          "base_uri": "https://localhost:8080/"
        },
        "id": "Tx8XBP6jzXJS",
        "outputId": "5c173421-544c-4c6f-9f3d-7644d8bf5697"
      },
      "execution_count": null,
      "outputs": [
        {
          "output_type": "stream",
          "name": "stdout",
          "text": [
            "강한친구 대한육군\n",
            "강한친구 대한육군\n"
          ]
        }
      ]
    },
    {
      "cell_type": "code",
      "source": [
        "print(\"강한친구 대한육군\")\n",
        "print(\"강한친구 대한육군\")"
      ],
      "metadata": {
        "colab": {
          "base_uri": "https://localhost:8080/"
        },
        "id": "Mc8Kzrq02RdI",
        "outputId": "86984c82-a66b-4790-f6b8-7705b89dbfc4"
      },
      "execution_count": null,
      "outputs": [
        {
          "output_type": "stream",
          "name": "stdout",
          "text": [
            "강한친구 대한육군\n",
            "강한친구 대한육군\n"
          ]
        }
      ]
    },
    {
      "cell_type": "markdown",
      "source": [
        "# 10171\n",
        "\n",
        "문제 : 아래 예제와 같이 고양이를 출력하시오.\n",
        "\n",
        "입력 : 없음\n",
        "\n",
        "출력 : 고양이를 출력한다."
      ],
      "metadata": {
        "id": "jS1pmgFV8Htf"
      }
    },
    {
      "cell_type": "code",
      "source": [
        "print(\"\\\\    /\\\\\")\n",
        "print(\" )  ( ')\")\n",
        "print(\"(  /  )\")\n",
        "print(\" \\\\(__)|\")"
      ],
      "metadata": {
        "colab": {
          "base_uri": "https://localhost:8080/"
        },
        "id": "kNNMnVqR2KLB",
        "outputId": "80dddb7b-ec41-4b44-91c3-18a211c10124"
      },
      "execution_count": null,
      "outputs": [
        {
          "output_type": "stream",
          "name": "stdout",
          "text": [
            "\\    /\\\n",
            " )  ( ')\n",
            "(  /  )\n",
            " \\(__)|\n"
          ]
        }
      ]
    },
    {
      "cell_type": "code",
      "source": [
        ""
      ],
      "metadata": {
        "id": "tYU5DhlJ8VVm"
      },
      "execution_count": null,
      "outputs": []
    }
  ]
}