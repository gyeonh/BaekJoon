{
  "nbformat": 4,
  "nbformat_minor": 0,
  "metadata": {
    "colab": {
      "name": "18883(B3)",
      "provenance": [],
      "authorship_tag": "ABX9TyPPV4xu+EYMZIQp7/GGBAcQ"
    },
    "kernelspec": {
      "name": "python3",
      "display_name": "Python 3"
    },
    "language_info": {
      "name": "python"
    }
  },
  "cells": [
    {
      "cell_type": "markdown",
      "metadata": {
        "id": "M2Z4CGbHr45m"
      },
      "source": [
        "# N M 찍기\n",
        "\n",
        "## 문제\n",
        "자연수 N, M이 주어졌을 때, 1부터 N×M까지 출력 형식대로 출력해보자.\n",
        " \n",
        "* 입력\n",
        "<br> 첫째 줄에 공백 한 칸으로 구분한 N, M이 주어진다. 두 수는 1,000보다 작거나 같은 자연수이다.\n",
        "\n",
        "* 출력\n",
        "<br> 총 N개의 줄을 출력해야 한다. 각 줄에는 M개의 정수를 공백 한 칸으로 구분해 출력해야 한다. 1번 줄에는 1부터 M까지, 2번 줄에는 M+1부터 2×M까지, ..., N번 줄에는 (N-1)×M+1부터 N×M까지 출력해야 한다.\n",
        "<br>모든 줄의 시작과 끝에 공백이 있으면 안되고, 모든 줄은 줄바꿈(\\n)으로 끝나야 한다."
      ]
    },
    {
      "cell_type": "code",
      "metadata": {
        "colab": {
          "base_uri": "https://localhost:8080/"
        },
        "id": "P7OQYJg7rnJi",
        "outputId": "1119ae60-8e95-4cc6-f236-bf478a50d024"
      },
      "source": [
        "n,m= map(int, input().split(\" \"))   #숫자 두개 입력\n",
        "box=[]\n",
        "\n",
        "for i in range(1,n*m+1):\n",
        "    box.append(str(i))\n",
        "    i=i+1\n",
        "\n",
        "start_pos=0\n",
        "for j in range(start_pos,n*m,m):\n",
        "    output=box[start_pos:start_pos+m]\n",
        "    print(' '.join(output))\n",
        "    start_pos=start_pos+m"
      ],
      "execution_count": null,
      "outputs": [
        {
          "output_type": "stream",
          "name": "stdout",
          "text": [
            "5 6\n",
            "1 2 3 4 5 6\n",
            "7 8 9 10 11 12\n",
            "13 14 15 16 17 18\n",
            "19 20 21 22 23 24\n",
            "25 26 27 28 29 30\n"
          ]
        }
      ]
    }
  ]
}