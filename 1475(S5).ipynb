{
  "nbformat": 4,
  "nbformat_minor": 0,
  "metadata": {
    "colab": {
      "name": "1475(S5)",
      "provenance": [],
      "authorship_tag": "ABX9TyPMEyMETQmN85YDjeHU3Z9b"
    },
    "kernelspec": {
      "name": "python3",
      "display_name": "Python 3"
    },
    "language_info": {
      "name": "python"
    }
  },
  "cells": [
    {
      "cell_type": "code",
      "execution_count": 53,
      "metadata": {
        "colab": {
          "base_uri": "https://localhost:8080/"
        },
        "id": "xtYyHaV3sSwd",
        "outputId": "8dc4fb17-023d-4077-fc1b-0144d131d221"
      },
      "outputs": [
        {
          "output_type": "stream",
          "name": "stdout",
          "text": [
            "888888\n",
            "6\n"
          ]
        }
      ],
      "source": [
        "N = input()   # String에 list()를 씌우면 한문자씩 리스트안에 저장됨.\n",
        "\n",
        "cntDict = {}\n",
        "for i in range(9):\n",
        "    cntDict[i] = 0\n",
        "\n",
        "for j in N:\n",
        "    j = int(j)\n",
        "    if j==9:\n",
        "        cntDict[6] = cntDict[6] + 1\n",
        "    else:\n",
        "        cntDict[j] = cntDict[j] + 1\n",
        "\n",
        "result = 0\n",
        "check6 = 0\n",
        "checkother = 0\n",
        "\n",
        "for k in range(9):\n",
        "    check6 = cntDict[6]\n",
        "    if k == 6:\n",
        "        pass\n",
        "    else:\n",
        "        if cntDict[k] >= checkother:\n",
        "            checkother = cntDict[k]\n",
        "        else:\n",
        "            continue\n",
        "\n",
        "if check6 % 2 == 0:\n",
        "    result = max(check6//2, checkother)\n",
        "else:\n",
        "    result = max(check6//2+1, checkother)\n",
        "\n",
        "print(result)"
      ]
    },
    {
      "cell_type": "code",
      "source": [
        ""
      ],
      "metadata": {
        "id": "WpqRz3F-sxjY"
      },
      "execution_count": 50,
      "outputs": []
    }
  ]
}