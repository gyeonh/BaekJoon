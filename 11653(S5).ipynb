{
  "nbformat": 4,
  "nbformat_minor": 0,
  "metadata": {
    "colab": {
      "name": "11653(S5)",
      "provenance": [],
      "authorship_tag": "ABX9TyPzT4oBBg2O+X/4GuM8CJTb"
    },
    "kernelspec": {
      "name": "python3",
      "display_name": "Python 3"
    },
    "language_info": {
      "name": "python"
    }
  },
  "cells": [
    {
      "cell_type": "markdown",
      "source": [
        "# 소인수분해\n",
        "\n",
        "## 문제\n",
        "정수 N이 주어졌을 때, 소인수분해하는 프로그램을 작성하시오.\n",
        "\n",
        "## 입력\n",
        "첫째 줄에 정수 N (1 ≤ N ≤ 10,000,000)이 주어진다.\n",
        "\n",
        "## 출력\n",
        "N의 소인수분해 결과를 한 줄에 하나씩 오름차순으로 출력한다. N이 1인 경우 아무것도 출력하지 않는다."
      ],
      "metadata": {
        "id": "WfrGG0G7CWdb"
      }
    },
    {
      "cell_type": "code",
      "source": [
        "N = int(input())\n",
        "\n",
        "def prime_factorization(N):\n",
        "    if N == 1:\n",
        "        return\n",
        "\n",
        "    for i in range(2, N+1):\n",
        "        while (N%i == 0):\n",
        "            print(i)\n",
        "            N = N/i\n",
        "        if N == 1:\n",
        "            break\n",
        "\n",
        "prime_factorization(N)"
      ],
      "metadata": {
        "colab": {
          "base_uri": "https://localhost:8080/"
        },
        "id": "RGo-t-8nClHE",
        "outputId": "1aae3141-5797-4969-ad36-a679a1a1f4a6"
      },
      "execution_count": 23,
      "outputs": [
        {
          "output_type": "stream",
          "name": "stdout",
          "text": [
            "72\n",
            "2\n",
            "2\n",
            "2\n",
            "3\n",
            "3\n"
          ]
        }
      ]
    },
    {
      "cell_type": "code",
      "source": [
        ""
      ],
      "metadata": {
        "id": "vaPStWpNS9VI"
      },
      "execution_count": 23,
      "outputs": []
    }
  ]
}