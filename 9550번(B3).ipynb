{
  "nbformat": 4,
  "nbformat_minor": 0,
  "metadata": {
    "colab": {
      "name": "9550번(B3)",
      "private_outputs": true,
      "provenance": [],
      "authorship_tag": "ABX9TyPU0120Oe8tXTQXG238An1r"
    },
    "kernelspec": {
      "name": "python3",
      "display_name": "Python 3"
    },
    "language_info": {
      "name": "python"
    }
  },
  "cells": [
    {
      "cell_type": "markdown",
      "metadata": {
        "id": "HLV5mqhx0m9a"
      },
      "source": [
        "# 아이들은 사탕을 좋아해"
      ]
    },
    {
      "cell_type": "markdown",
      "metadata": {
        "id": "8V3OPCfB0Rvp"
      },
      "source": [
        "## 문제\n",
        "승택이의 아들이 생일을 맞았다. 승택이는 아들을 위해 생일 파티를 하려고 한다.\n",
        "\n",
        "하지만 아들의 친구들을 모두 초대할 수는 없다. 아이들에게 나눠 줄 사탕이 부족하기 때문이다.\n",
        "\n",
        "아이들은 항상 한 종류의 사탕만을 먹고 싶어한다. 게다가, 한 종류의 사탕을 최소한 K개 이상 먹어야만 행복해한다.\n",
        "\n",
        "K가 주어지고 승택이가 현재 갖고 있는 사탕의 종류와 개수가 주어진다. 이때, 생일파티에 올 수 있는 아이들은 최대 몇 명일까?"
      ]
    },
    {
      "cell_type": "markdown",
      "metadata": {
        "id": "XcGgm9oK0reT"
      },
      "source": [
        "* 입력\n",
        "<br> 첫 줄에 테스트 케이스의 수 T가 주어진다. ( 1 ≤ T ≤ 100 )\n",
        "<br> 각 테스트 케이스의 첫 줄엔 승택이가 갖고 있는 사탕의 종류의 수 N과 K가 주어진다. ( 1 ≤ N, K ≤ 100 )\n",
        "<br> 두 번째 줄엔 N개의 정수로 승택이가 각 종류의 사탕을 몇 개 갖고 있는지가 주어진다.\n",
        "<br> 모든 종류에 대해, 사탕은 최소 1개 최대 100개이다.\n",
        "\n",
        "* 출력\n",
        "<br> 테스트 케이스마다 생일파티에 최대 몇 명의 아이들이 참석할 수 있는지 하나의 정수로 출력한다."
      ]
    },
    {
      "cell_type": "code",
      "metadata": {
        "id": "DkBk5f7AyPKS"
      },
      "source": [
        "T=int(input())   #테스트케이스 수 입력\n",
        "result=[]\n",
        "for i in range(1,T+1):\n",
        "    N,K=map(int,input().split())    #사탕의 종류 수, 최소 개수 입력\n",
        "    num=map(int,input().split())    #각 종류별 사탕 개수 입력\n",
        "    count=0\n",
        "    for j in num:\n",
        "        a=j//K\n",
        "        count=count+a\n",
        "    result.append(count)\n",
        "print(\"\\n\".join(map(str,result)))"
      ],
      "execution_count": null,
      "outputs": []
    }
  ]
}