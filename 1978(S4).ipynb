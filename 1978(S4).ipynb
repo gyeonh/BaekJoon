{
  "nbformat": 4,
  "nbformat_minor": 0,
  "metadata": {
    "colab": {
      "name": "1978(S4)",
      "provenance": [],
      "authorship_tag": "ABX9TyN0gArKSvdz5+7dE8vSiBpY"
    },
    "kernelspec": {
      "name": "python3",
      "display_name": "Python 3"
    },
    "language_info": {
      "name": "python"
    }
  },
  "cells": [
    {
      "cell_type": "markdown",
      "metadata": {
        "id": "dnocXZUcfnE4"
      },
      "source": [
        "# 소수 찾기"
      ]
    },
    {
      "cell_type": "markdown",
      "metadata": {
        "id": "pljR9Avufqbh"
      },
      "source": [
        "## 문제\n",
        "주어진 수 N개 중에서 소수가 몇 개인지 찾아서 출력하는 프로그램을 작성하시오.\n",
        "\n",
        "## 입력\n",
        "첫 줄에 수의 개수 N이 주어진다. N은 100이하이다. 다음으로 N개의 수가 주어지는데 수는 1,000 이하의 자연수이다.\n",
        "\n",
        "## 출력\n",
        "주어진 수들 중 소수의 개수를 출력한다.\n",
        "\n"
      ]
    },
    {
      "cell_type": "code",
      "metadata": {
        "colab": {
          "base_uri": "https://localhost:8080/"
        },
        "id": "upxNSJeifPnn",
        "outputId": "cef7988f-0a86-46ab-92c3-2723bcc349b4"
      },
      "source": [
        "N = int(input())\n",
        "num = list(map(int, input().split()))\n",
        "\n",
        "def find_prime(arg):\n",
        "    cnt=0\n",
        "    for i in arg:\n",
        "        tmp=0\n",
        "        for j in range(2,int(i**(1/2))+1):\n",
        "            if i%j==0:  #소수가 아님\n",
        "                tmp=1\n",
        "                break\n",
        "\n",
        "        if tmp==0:\n",
        "            cnt+=1\n",
        "    \n",
        "    if 1 in arg:\n",
        "        cnt = cnt - 1\n",
        "\n",
        "    return cnt\n",
        "\n",
        "print(find_prime(num))"
      ],
      "execution_count": 45,
      "outputs": [
        {
          "output_type": "stream",
          "name": "stdout",
          "text": [
            "4\n",
            "1 3 5 7\n",
            "3\n"
          ]
        }
      ]
    }
  ]
}