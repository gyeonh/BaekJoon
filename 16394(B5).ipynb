{
  "nbformat": 4,
  "nbformat_minor": 0,
  "metadata": {
    "colab": {
      "name": "16394(B5)",
      "provenance": [],
      "authorship_tag": "ABX9TyPXwHGayNAjzVatwqS9qbbg"
    },
    "kernelspec": {
      "name": "python3",
      "display_name": "Python 3"
    },
    "language_info": {
      "name": "python"
    }
  },
  "cells": [
    {
      "cell_type": "markdown",
      "source": [
        "# 홍익대학교\n",
        "\n",
        "## 문제\n",
        "홍익대학교는 1946년에 개교하였다.\n",
        "\n",
        "특정 년도가 주어졌을 때, 그 해가 개교 몇 주년인지 출력하라.\n",
        "\n",
        "단, 홍익대학교는 없어지지 않는다고 가정한다.\n",
        "\n",
        "## 입력\n",
        "입력으로 첫 줄에 특정 년도를 알리는 정수 N이 주어진다. 정수 N은 1,946 부터 1,000,000 사이의 값이다. (1,946 ≤  N ≤  1,000,000)\n",
        "\n",
        "## 출력\n",
        "출력으로 홍익대학교의 개교 주년을 나타내는 정수를 출력한다."
      ],
      "metadata": {
        "id": "vZYgN5ii8zmH"
      }
    },
    {
      "cell_type": "code",
      "execution_count": 3,
      "metadata": {
        "colab": {
          "base_uri": "https://localhost:8080/"
        },
        "id": "byAsEH8o8tNk",
        "outputId": "bfef4943-d9dc-4156-da5f-ee3a1d226faf"
      },
      "outputs": [
        {
          "output_type": "stream",
          "name": "stdout",
          "text": [
            "2018\n",
            "72\n"
          ]
        }
      ],
      "source": [
        "hongik = 1946\n",
        "year = int(input())\n",
        "\n",
        "print(year - hongik)"
      ]
    }
  ]
}