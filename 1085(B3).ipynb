{
  "nbformat": 4,
  "nbformat_minor": 0,
  "metadata": {
    "colab": {
      "name": "1085(B3)",
      "provenance": [],
      "authorship_tag": "ABX9TyON3Qcbo8nE2p8nLblUWGp7"
    },
    "kernelspec": {
      "name": "python3",
      "display_name": "Python 3"
    },
    "language_info": {
      "name": "python"
    }
  },
  "cells": [
    {
      "cell_type": "markdown",
      "metadata": {
        "id": "qcMu7dIw17pv"
      },
      "source": [
        "# 직사각형에서 탈출\n",
        "\n",
        "## 문제\n",
        "한수는 지금 (x, y)에 있다. 직사각형은 각 변이 좌표축에 평행하고, 왼쪽 아래 꼭짓점은 (0, 0), 오른쪽 위 꼭짓점은 (w, h)에 있다. 직사각형의 경계선까지 가는 거리의 최솟값을 구하는 프로그램을 작성하시오."
      ]
    },
    {
      "cell_type": "markdown",
      "metadata": {
        "id": "LuCwot_G2FOv"
      },
      "source": [
        "* 입력\n",
        "<br> 첫째 줄에 x, y, w, h가 주어진다.\n",
        "\n",
        "* 출력\n",
        "<br> 첫째 줄에 문제의 정답을 출력한다.\n",
        "\n",
        "* 제한\n",
        "<br> 1 ≤ w, h ≤ 1,000\n",
        "<br> 1 ≤ x ≤ w-1\n",
        "<br> 1 ≤ y ≤ h-1\n",
        "<br> x, y, w, h는 정수"
      ]
    },
    {
      "cell_type": "code",
      "metadata": {
        "colab": {
          "base_uri": "https://localhost:8080/"
        },
        "id": "Rq7I-juf1g2m",
        "outputId": "26d66786-42ec-4479-b72d-70c698cb7d54"
      },
      "source": [
        "import math\n",
        "\n",
        "x,y,w,h=map(int,input().split())\n",
        "result=[]\n",
        "result.append((x-0)**2)\n",
        "result.append((w-x)**2)\n",
        "result.append((y-0)**2)\n",
        "result.append((h-y)**2)\n",
        "print(int(math.sqrt(min(result))))"
      ],
      "execution_count": 2,
      "outputs": [
        {
          "output_type": "stream",
          "name": "stdout",
          "text": [
            "6 2 10 3\n",
            "1\n"
          ]
        }
      ]
    }
  ]
}