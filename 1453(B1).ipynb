{
  "nbformat": 4,
  "nbformat_minor": 0,
  "metadata": {
    "colab": {
      "name": "1453(B1)",
      "provenance": [],
      "authorship_tag": "ABX9TyMwb6H9s19vu1VKbEjcczFH"
    },
    "kernelspec": {
      "name": "python3",
      "display_name": "Python 3"
    },
    "language_info": {
      "name": "python"
    }
  },
  "cells": [
    {
      "cell_type": "markdown",
      "metadata": {
        "id": "YNlZvqfAEhV0"
      },
      "source": [
        "# 피씨방 알바\n",
        "세준이는 피시방에서 아르바이트를 한다. 세준이의 피시방에는 1번부터 100번까지 컴퓨터가 있다.\n",
        "\n",
        "들어오는 손님은 모두 자기가 앉고 싶은 자리에만 앉고싶어한다. 따라서 들어오면서 번호를 말한다. 만약에 그 자리에 사람이 없으면 그 손님은 그 자리에 앉아서 컴퓨터를 할 수 있고, 사람이 있다면 거절당한다.\n",
        "\n",
        "거절당하는 사람의 수를 출력하는 프로그램을 작성하시오. 자리는 맨 처음에 모두 비어있고, 어떤 사람이 자리에 앉으면 자리를 비우는 일은 없다.\n",
        "\n",
        "* 입력\n",
        "<br>첫째 줄에 손님의 수 N이 주어진다. N은 100보다 작거나 같다. 둘째 줄에 손님이 들어오는 순서대로 각 손님이 앉고 싶어하는 자리가 입력으로 주어진다.\n",
        "\n",
        "* 출력\n",
        "<br> 첫째 줄에 거절당하는 사람의 수를 출력한다."
      ]
    },
    {
      "cell_type": "code",
      "metadata": {
        "colab": {
          "base_uri": "https://localhost:8080/"
        },
        "id": "CWcfM1IwD8_r",
        "outputId": "ef545fd1-6d6a-44bb-a55b-2bdef8fb53e9"
      },
      "source": [
        "#1\n",
        "N=int(input())      #들어오는 손님의 수\n",
        "num=list(map(int,input().split()))    #원하는 컴퓨터 자리 번호\n",
        "count=0\n",
        "com=[]\n",
        "\n",
        "for i in range(N):\n",
        "    if i==0:\n",
        "        com.append(num[i])\n",
        "    elif num[i] in com:\n",
        "        count+=1\n",
        "        continue\n",
        "    else:\n",
        "        com.append(num[i])\n",
        "print(count)\n",
        "\n",
        "#2\n",
        "N=int(input())\n",
        "no_comp=list(map(int,input().split()))\n",
        "check=set(no_comp)\n",
        "result=len(no_comp)-len(check)\n",
        "print(result)\n",
        "\n",
        "\n",
        "#3\n",
        "print(int(input())-len({*input().split()}))\n",
        "\n"
      ],
      "execution_count": 2,
      "outputs": [
        {
          "output_type": "stream",
          "name": "stdout",
          "text": [
            "3\n",
            "1 2 3\n",
            "0\n",
            "3\n",
            "1 2 3\n",
            "0\n",
            "3\n",
            "1 2 3\n",
            "0\n"
          ]
        }
      ]
    }
  ]
}