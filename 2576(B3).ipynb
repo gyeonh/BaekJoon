{
  "nbformat": 4,
  "nbformat_minor": 0,
  "metadata": {
    "colab": {
      "name": "2576(B3)",
      "provenance": [],
      "authorship_tag": "ABX9TyMyEVMm6/flChC4fEPpjmDk"
    },
    "kernelspec": {
      "name": "python3",
      "display_name": "Python 3"
    },
    "language_info": {
      "name": "python"
    }
  },
  "cells": [
    {
      "cell_type": "code",
      "source": [
        "N = list(map(int, [input() for _ in range(7)]))\n",
        "\n",
        "sum = 0\n",
        "odd = []\n",
        "for i in N:\n",
        "    if i%2 != 0:\n",
        "        sum += i\n",
        "        odd.append(i)\n",
        "    else:\n",
        "        continue\n",
        "\n",
        "if len(odd) == 0:\n",
        "    print(-1)\n",
        "else:\n",
        "    print(sum, min(odd), sep='\\n')"
      ],
      "metadata": {
        "colab": {
          "base_uri": "https://localhost:8080/"
        },
        "id": "JSCr_8jeACYe",
        "outputId": "68c1731f-00ba-45e2-dd8f-87082c797e75"
      },
      "execution_count": 20,
      "outputs": [
        {
          "output_type": "stream",
          "name": "stdout",
          "text": [
            "12\n",
            "77\n",
            "38\n",
            "41\n",
            "53\n",
            "92\n",
            "85\n",
            "256\n",
            "41\n"
          ]
        }
      ]
    },
    {
      "cell_type": "code",
      "source": [
        ""
      ],
      "metadata": {
        "id": "iVdG4ILiCWBl"
      },
      "execution_count": null,
      "outputs": []
    }
  ]
}